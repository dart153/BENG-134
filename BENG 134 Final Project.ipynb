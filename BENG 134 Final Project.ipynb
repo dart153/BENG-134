{
 "cells": [
  {
   "cell_type": "code",
   "execution_count": 64,
   "metadata": {
    "collapsed": true
   },
   "outputs": [],
   "source": [
    "#importing necessary libraries\n",
    "import numpy as np\n",
    "import scipy\n",
    "import scipy.stats.stats as stat\n",
    "from sklearn.linear_model import LinearRegression\n",
    "from sklearn.preprocessing import StandardScaler\n",
    "from sklearn.decomposition import PCA\n",
    "from sklearn.metrics import mean_squared_error\n",
    "from sklearn.cluster import KMeans\n",
    "import matplotlib\n",
    "import seaborn as sb\n",
    "from io import StringIO\n",
    "import re\n",
    "import matplotlib.pyplot as plt\n",
    "import pandas as pd\n",
    "import urllib3 as urllib\n",
    "import csv\n",
    "from sklearn.model_selection import train_test_split\n",
    "\n",
    "%matplotlib inline"
   ]
  },
  {
   "cell_type": "markdown",
   "metadata": {},
   "source": [
    "<h2>Downloading and Processing the Data</h2>"
   ]
  },
  {
   "cell_type": "code",
   "execution_count": 65,
   "metadata": {},
   "outputs": [
    {
     "data": {
      "text/html": [
       "<div>\n",
       "<style scoped>\n",
       "    .dataframe tbody tr th:only-of-type {\n",
       "        vertical-align: middle;\n",
       "    }\n",
       "\n",
       "    .dataframe tbody tr th {\n",
       "        vertical-align: top;\n",
       "    }\n",
       "\n",
       "    .dataframe thead th {\n",
       "        text-align: right;\n",
       "    }\n",
       "</style>\n",
       "<table border=\"1\" class=\"dataframe\">\n",
       "  <thead>\n",
       "    <tr style=\"text-align: right;\">\n",
       "      <th></th>\n",
       "      <th>survival</th>\n",
       "      <th>still-alive</th>\n",
       "      <th>age-at-heart-attack</th>\n",
       "      <th>pericardial-effusion</th>\n",
       "      <th>fractional-shortening</th>\n",
       "      <th>epss</th>\n",
       "      <th>lvdd</th>\n",
       "      <th>wall-motion-score</th>\n",
       "      <th>wall-motion-index</th>\n",
       "      <th>alive-at-1</th>\n",
       "    </tr>\n",
       "  </thead>\n",
       "  <tbody>\n",
       "    <tr>\n",
       "      <th>0</th>\n",
       "      <td>11.0</td>\n",
       "      <td>0.0</td>\n",
       "      <td>71.0</td>\n",
       "      <td>0</td>\n",
       "      <td>0.260</td>\n",
       "      <td>9.000</td>\n",
       "      <td>4.600</td>\n",
       "      <td>14.0</td>\n",
       "      <td>1.00</td>\n",
       "      <td>0.0</td>\n",
       "    </tr>\n",
       "    <tr>\n",
       "      <th>1</th>\n",
       "      <td>19.0</td>\n",
       "      <td>0.0</td>\n",
       "      <td>72.0</td>\n",
       "      <td>0</td>\n",
       "      <td>0.380</td>\n",
       "      <td>6.000</td>\n",
       "      <td>4.100</td>\n",
       "      <td>14.0</td>\n",
       "      <td>1.70</td>\n",
       "      <td>0.0</td>\n",
       "    </tr>\n",
       "    <tr>\n",
       "      <th>2</th>\n",
       "      <td>16.0</td>\n",
       "      <td>0.0</td>\n",
       "      <td>55.0</td>\n",
       "      <td>0</td>\n",
       "      <td>0.260</td>\n",
       "      <td>4.000</td>\n",
       "      <td>3.420</td>\n",
       "      <td>14.0</td>\n",
       "      <td>1.00</td>\n",
       "      <td>0.0</td>\n",
       "    </tr>\n",
       "    <tr>\n",
       "      <th>3</th>\n",
       "      <td>57.0</td>\n",
       "      <td>0.0</td>\n",
       "      <td>60.0</td>\n",
       "      <td>0</td>\n",
       "      <td>0.253</td>\n",
       "      <td>12.062</td>\n",
       "      <td>4.603</td>\n",
       "      <td>16.0</td>\n",
       "      <td>1.45</td>\n",
       "      <td>0.0</td>\n",
       "    </tr>\n",
       "    <tr>\n",
       "      <th>4</th>\n",
       "      <td>19.0</td>\n",
       "      <td>1.0</td>\n",
       "      <td>57.0</td>\n",
       "      <td>0</td>\n",
       "      <td>0.160</td>\n",
       "      <td>22.000</td>\n",
       "      <td>5.750</td>\n",
       "      <td>18.0</td>\n",
       "      <td>2.25</td>\n",
       "      <td>0.0</td>\n",
       "    </tr>\n",
       "  </tbody>\n",
       "</table>\n",
       "</div>"
      ],
      "text/plain": [
       "   survival  still-alive  age-at-heart-attack  pericardial-effusion  \\\n",
       "0      11.0          0.0                 71.0                     0   \n",
       "1      19.0          0.0                 72.0                     0   \n",
       "2      16.0          0.0                 55.0                     0   \n",
       "3      57.0          0.0                 60.0                     0   \n",
       "4      19.0          1.0                 57.0                     0   \n",
       "\n",
       "   fractional-shortening    epss   lvdd  wall-motion-score  wall-motion-index  \\\n",
       "0                  0.260   9.000  4.600               14.0               1.00   \n",
       "1                  0.380   6.000  4.100               14.0               1.70   \n",
       "2                  0.260   4.000  3.420               14.0               1.00   \n",
       "3                  0.253  12.062  4.603               16.0               1.45   \n",
       "4                  0.160  22.000  5.750               18.0               2.25   \n",
       "\n",
       "   alive-at-1  \n",
       "0         0.0  \n",
       "1         0.0  \n",
       "2         0.0  \n",
       "3         0.0  \n",
       "4         0.0  "
      ]
     },
     "execution_count": 65,
     "metadata": {},
     "output_type": "execute_result"
    }
   ],
   "source": [
    "'''\n",
    "Downloading the Data \n",
    "-Retrieve the echocardiogram data from the web address.\n",
    "-Load the Data into a pandas dataframe\n",
    "'''\n",
    "\n",
    "# load in the data locally\n",
    "with open('echocardiogram.data.txt') as input_file:\n",
    "   lines = input_file.readlines()\n",
    "   newLines = []\n",
    "   for line in lines:\n",
    "      newLine = line.strip().split(',')\n",
    "      newLines.append( newLine )\n",
    "\n",
    "with open('ecgData.csv', 'w') as test_file:\n",
    "   file_writer = csv.writer(test_file)\n",
    "   file_writer.writerows( newLines )\n",
    "    \n",
    "#Read the data into a pandas dataframe\n",
    "\n",
    "columnNames = ['survival','still-alive','age-at-heart-attack','pericardial-effusion','fractional-shortening','epss','lvdd','wall-motion-score','wall-motion-index','mult','name','group','alive-at-1']\n",
    "table = pd.read_csv('ecgData.csv',names=columnNames)\n",
    "\n",
    "#Clear the useless columns:\n",
    "\n",
    "uselessCols = ['mult','name','group']\n",
    "table.drop(uselessCols, inplace=True, axis=1)\n",
    "               \n",
    "table\n",
    "\n",
    "table = table.apply(pd.to_numeric, errors='coerce')\n",
    "\n",
    "# Validate the data\n",
    "def check_column(data,col):\n",
    "    data[col] = data[col].replace('?',np.nan)\n",
    "    return data[col]\n",
    "#b)\n",
    "def validate(data):\n",
    "    for column in data:\n",
    "        data[column]= check_column(data,column)\n",
    "    return data\n",
    "\n",
    "table = validate(table)\n",
    "\n",
    "# Remove all na values:\n",
    "table = table.dropna(axis=0, how='any')\n",
    "table.head()"
   ]
  },
  {
   "cell_type": "code",
   "execution_count": 66,
   "metadata": {
    "collapsed": true
   },
   "outputs": [],
   "source": [
    "# Output Column (Can we predict if the patient is alive after 1 year?)\n",
    "y = table[['still-alive']]\n",
    "#Factors used to predict the output\n",
    "x = table[['age-at-heart-attack','fractional-shortening','lvdd','wall-motion-score']]"
   ]
  },
  {
   "cell_type": "markdown",
   "metadata": {},
   "source": [
    "# Data Exploration with PCA:"
   ]
  },
  {
   "cell_type": "code",
   "execution_count": 67,
   "metadata": {},
   "outputs": [
    {
     "name": "stdout",
     "output_type": "stream",
     "text": [
      "Components:\n",
      " [[ 0.99823634 -0.00134147  0.01682984 -0.05691371]\n",
      " [ 0.05639108 -0.00565935  0.02959334  0.99795403]]\n",
      "\n",
      "\n",
      "Explained Variance\n",
      " PC 1: 75.82170764249855\n",
      " PC 2: 29.28872393729143\n"
     ]
    }
   ],
   "source": [
    "# standardize the variables for which we will apply PCA\n",
    "\n",
    "x_std = StandardScaler().fit_transform(x)\n",
    "\n",
    "#apply PCA\n",
    "\n",
    "pca = PCA(n_components=2)\n",
    "pca.fit(x)\n",
    "\n",
    "x_pca = pca.transform(x)\n",
    "\n",
    "print('Components:\\n {}\\n\\n'.format(pca.components_))\n",
    "\n",
    "print('Explained Variance\\n PC 1: {}\\n PC 2: {}'.format(pca.explained_variance_[0],pca.explained_variance_[1]))"
   ]
  },
  {
   "cell_type": "code",
   "execution_count": 68,
   "metadata": {},
   "outputs": [
    {
     "data": {
      "image/png": "[encoded data removed]",
      "text/plain": [
       "<matplotlib.figure.Figure at 0x10c5c3550>"
      ]
     },
     "metadata": {},
     "output_type": "display_data"
    }
   ],
   "source": [
    "#Use the reduced dimension x-values obtained by the PCA to perform the linear regression\n",
    "\n",
    "plt.scatter([x[0] for x in x_pca],[x[1] for x in x_pca])\n",
    "plt.title('PCA on Echocardiogram Data')\n",
    "plt.xlabel('PC1')\n",
    "plt.ylabel('PC2')\n",
    "plt.show()"
   ]
  },
  {
   "cell_type": "code",
   "execution_count": 69,
   "metadata": {},
   "outputs": [
    {
     "data": {
      "image/png": "[encoded data removed]",
      "text/plain": [
       "<matplotlib.figure.Figure at 0x10c581ef0>"
      ]
     },
     "metadata": {},
     "output_type": "display_data"
    }
   ],
   "source": [
    "#Add markers to indicate dead or alive after 1 year\n",
    "\n",
    "dead = []\n",
    "alive = []\n",
    "\n",
    "i = 0\n",
    "\n",
    "for index, row in y.iterrows():\n",
    "\n",
    "    \n",
    "    pcs = list(x_pca[i])\n",
    "    \n",
    "    if row['still-alive'] == 0.0:\n",
    "        \n",
    "        #indicates patient has died\n",
    "        dead.append(pcs)\n",
    "    else:\n",
    "        \n",
    "        alive.append(pcs)\n",
    "    \n",
    "    \n",
    "    i += 1\n",
    "    \n",
    "plt.scatter([x[0] for x in dead],[x[1] for x in dead],marker='x')\n",
    "plt.scatter([x[0] for x in alive],[x[1] for x in alive],marker='o')\n",
    "plt.title('PCA with still-alive')\n",
    "plt.xlabel('PC1')\n",
    "plt.ylabel('PC2')\n",
    "plt.legend(labels=['Dead After 1 year','Alive after 1 year'])\n",
    "plt.show()"
   ]
  },
  {
   "cell_type": "markdown",
   "metadata": {
    "collapsed": true
   },
   "source": [
    "# Logistic Regression:\n"
   ]
  },
  {
   "cell_type": "code",
   "execution_count": 70,
   "metadata": {},
   "outputs": [
    {
     "name": "stdout",
     "output_type": "stream",
     "text": [
      "Accuracy of logistic regression classifier on test set: 0.77\n",
      "Accuracy of logistic regression classifier on test set: 0.85\n",
      "Accuracy of logistic regression classifier on test set: 0.62\n",
      "Accuracy of logistic regression classifier on test set: 0.77\n",
      "Average Accuracy of logistic regression classifier on test sets: 0.75\n"
     ]
    }
   ],
   "source": [
    "#Split into 5 different test-train sets\n",
    "xtrain1, xtest1 = train_test_split(x, test_size=0.2,random_state = 1)\n",
    "ytrain1, ytest1 = train_test_split(y, test_size=0.2,random_state = 1)\n",
    "\n",
    "xtrain2, xtest2 = train_test_split(x, test_size=0.2,random_state = 2)\n",
    "ytrain2, ytest2 = train_test_split(y, test_size=0.2,random_state = 2)\n",
    "\n",
    "xtrain3, xtest3 = train_test_split(x, test_size=0.2,random_state = 3)\n",
    "ytrain3, ytest3 = train_test_split(y, test_size=0.2,random_state = 3)\n",
    "\n",
    "xtrain4, xtest4 = train_test_split(x, test_size=0.2,random_state = 6)\n",
    "ytrain4, ytest4 = train_test_split(y, test_size=0.2,random_state = 6)\n",
    "\n",
    "xtrain5, xtest5 = train_test_split(x, test_size=0.2,random_state = 5)\n",
    "ytrain5, ytest5 = train_test_split(y, test_size=0.2,random_state = 5)\n",
    "\n",
    "#Run Logistic Regression on different combinations of each data set\n",
    "\n",
    "\n",
    "from sklearn.linear_model import LogisticRegression\n",
    "from sklearn import metrics\n",
    "\n",
    "\n",
    "tot_accuracy = 0\n",
    "\n",
    "for i in range(4):\n",
    "    xtrainframes = [xtest1,xtest2,xtest3,xtest4,xtest5]\n",
    "    ytrainframes = [ytest1,ytest2,ytest3,ytest4,ytest5]\n",
    "    xtrainframes.pop(i)\n",
    "    ytrainframes.pop(i)\n",
    "    \n",
    "    x_test = pd.concat(xtrainframes)\n",
    "    x_train = xtrainframes[i]\n",
    "    y_test = pd.concat(ytrainframes)\n",
    "    y_train = ytrainframes[i]\n",
    "    \n",
    "    logreg = LogisticRegression()\n",
    "\n",
    "    logreg.fit(x_train,y_train.values.ravel())\n",
    "    tot_accuracy+=logreg.score(xtest,ytest)  \n",
    "    print('Accuracy of logistic regression classifier on test set: {:.2f}'.format(logreg.score(xtest,ytest)))\n",
    "\n",
    "print('Average Accuracy of logistic regression classifier on test sets: {:.2f}'.format(tot_accuracy/4))"
   ]
  },
  {
   "cell_type": "markdown",
   "metadata": {},
   "source": [
    "# ROC"
   ]
  },
  {
   "cell_type": "code",
   "execution_count": 71,
   "metadata": {},
   "outputs": [
    {
     "data": {
      "image/png": "[encoded data removed]",
      "text/plain": [
       "<matplotlib.figure.Figure at 0x10c7bbac8>"
      ]
     },
     "metadata": {},
     "output_type": "display_data"
    }
   ],
   "source": [
    "#ROC \n",
    "from sklearn.metrics import confusion_matrix, roc_curve, roc_auc_score\n",
    "fpr, tpr,_=roc_curve(logreg.predict(pd.concat(xtrainframes)),pd.concat(ytrainframes),drop_intermediate=False)\n",
    "plt.figure()\n",
    "plt.plot(fpr, tpr, color='red',\n",
    " lw=2, label='ROC curve')\n",
    "##Random FPR and TPR\n",
    "plt.plot([0, 1], [0, 1], color='blue', lw=2, linestyle='--')\n",
    "##Title and label\n",
    "plt.xlabel('FPR')\n",
    "plt.ylabel('TPR')\n",
    "plt.title('ROC curve')\n",
    "plt.show()"
   ]
  }
 ],
 "metadata": {
  "kernelspec": {
   "display_name": "Python 3",
   "language": "python",
   "name": "python3"
  },
  "language_info": {
   "codemirror_mode": {
    "name": "ipython",
    "version": 3
   },
   "file_extension": ".py",
   "mimetype": "text/x-python",
   "name": "python",
   "nbconvert_exporter": "python",
   "pygments_lexer": "ipython3",
   "version": "3.5.1"
  }
 },
 "nbformat": 4,
 "nbformat_minor": 2
}
